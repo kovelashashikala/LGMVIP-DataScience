{
  "nbformat": 4,
  "nbformat_minor": 0,
  "metadata": {
    "colab": {
      "provenance": [],
      "toc_visible": true,
      "authorship_tag": "ABX9TyMZTNvHGE1AC/VYrh8hJ8rP",
      "include_colab_link": true
    },
    "kernelspec": {
      "name": "python3",
      "display_name": "Python 3"
    },
    "language_info": {
      "name": "python"
    }
  },
  "cells": [
    {
      "cell_type": "markdown",
      "metadata": {
        "id": "view-in-github",
        "colab_type": "text"
      },
      "source": [
        "<a href=\"https://colab.research.google.com/github/kovelashashikala/LGMVIP-DataScience/blob/main/TASK_2.ipynb\" target=\"_parent\"><img src=\"https://colab.research.google.com/assets/colab-badge.svg\" alt=\"Open In Colab\"/></a>"
      ]
    },
    {
      "cell_type": "markdown",
      "source": [
        "# **LGMVIP May 2023 Data Science Internship task 2**\n",
        " Stock Market Prediction and Forecasting using Stacked LSTM"
      ],
      "metadata": {
        "id": "_FzFbLnx-wMT"
      }
    },
    {
      "cell_type": "markdown",
      "source": [
        "# **Importing the Necessarty Libraries**"
      ],
      "metadata": {
        "id": "tchXi137AKE3"
      }
    },
    {
      "cell_type": "code",
      "source": [
        "import pandas as pd\n",
        "import numpy as np \n",
        "import matplotlib.pyplot as plt\n",
        "import tensorflow as tf\n",
        "from sklearn.preprocessing import MinMaxScaler\n",
        "\n",
        "# Ignoring warnings\n",
        "import warnings\n",
        "warnings.filterwarnings(\"ignore\")"
      ],
      "metadata": {
        "id": "YVRCM2CdAQ2n"
      },
      "execution_count": 1,
      "outputs": []
    },
    {
      "cell_type": "markdown",
      "source": [
        "# **Reading the Data**"
      ],
      "metadata": {
        "id": "hKhaVNX0AZ30"
      }
    },
    {
      "cell_type": "code",
      "source": [
        "df=pd.read_csv('NSE-TATAGLOBAL.csv')"
      ],
      "metadata": {
        "id": "IGk3mS-CAjHY"
      },
      "execution_count": 2,
      "outputs": []
    },
    {
      "cell_type": "code",
      "source": [
        "df.head()"
      ],
      "metadata": {
        "colab": {
          "base_uri": "https://localhost:8080/",
          "height": 206
        },
        "id": "aVX1ezUAAtOp",
        "outputId": "4b10e162-1314-4373-f98f-403cd8ded647"
      },
      "execution_count": 4,
      "outputs": [
        {
          "output_type": "execute_result",
          "data": {
            "text/plain": [
              "         Date    Open    High     Low    Last   Close  Total Trade Quantity  \\\n",
              "0  2018-09-28  234.05  235.95  230.20  233.50  233.75               3069914   \n",
              "1  2018-09-27  234.55  236.80  231.10  233.80  233.25               5082859   \n",
              "2  2018-09-26  240.00  240.00  232.50  235.00  234.25               2240909   \n",
              "3  2018-09-25  233.30  236.75  232.00  236.25  236.10               2349368   \n",
              "4  2018-09-24  233.55  239.20  230.75  234.00  233.30               3423509   \n",
              "\n",
              "   Turnover (Lacs)  \n",
              "0          7162.35  \n",
              "1         11859.95  \n",
              "2          5248.60  \n",
              "3          5503.90  \n",
              "4          7999.55  "
            ],
            "text/html": [
              "\n",
              "  <div id=\"df-e1e78d8e-bbd8-48ec-b4c4-e900d8fa1f86\">\n",
              "    <div class=\"colab-df-container\">\n",
              "      <div>\n",
              "<style scoped>\n",
              "    .dataframe tbody tr th:only-of-type {\n",
              "        vertical-align: middle;\n",
              "    }\n",
              "\n",
              "    .dataframe tbody tr th {\n",
              "        vertical-align: top;\n",
              "    }\n",
              "\n",
              "    .dataframe thead th {\n",
              "        text-align: right;\n",
              "    }\n",
              "</style>\n",
              "<table border=\"1\" class=\"dataframe\">\n",
              "  <thead>\n",
              "    <tr style=\"text-align: right;\">\n",
              "      <th></th>\n",
              "      <th>Date</th>\n",
              "      <th>Open</th>\n",
              "      <th>High</th>\n",
              "      <th>Low</th>\n",
              "      <th>Last</th>\n",
              "      <th>Close</th>\n",
              "      <th>Total Trade Quantity</th>\n",
              "      <th>Turnover (Lacs)</th>\n",
              "    </tr>\n",
              "  </thead>\n",
              "  <tbody>\n",
              "    <tr>\n",
              "      <th>0</th>\n",
              "      <td>2018-09-28</td>\n",
              "      <td>234.05</td>\n",
              "      <td>235.95</td>\n",
              "      <td>230.20</td>\n",
              "      <td>233.50</td>\n",
              "      <td>233.75</td>\n",
              "      <td>3069914</td>\n",
              "      <td>7162.35</td>\n",
              "    </tr>\n",
              "    <tr>\n",
              "      <th>1</th>\n",
              "      <td>2018-09-27</td>\n",
              "      <td>234.55</td>\n",
              "      <td>236.80</td>\n",
              "      <td>231.10</td>\n",
              "      <td>233.80</td>\n",
              "      <td>233.25</td>\n",
              "      <td>5082859</td>\n",
              "      <td>11859.95</td>\n",
              "    </tr>\n",
              "    <tr>\n",
              "      <th>2</th>\n",
              "      <td>2018-09-26</td>\n",
              "      <td>240.00</td>\n",
              "      <td>240.00</td>\n",
              "      <td>232.50</td>\n",
              "      <td>235.00</td>\n",
              "      <td>234.25</td>\n",
              "      <td>2240909</td>\n",
              "      <td>5248.60</td>\n",
              "    </tr>\n",
              "    <tr>\n",
              "      <th>3</th>\n",
              "      <td>2018-09-25</td>\n",
              "      <td>233.30</td>\n",
              "      <td>236.75</td>\n",
              "      <td>232.00</td>\n",
              "      <td>236.25</td>\n",
              "      <td>236.10</td>\n",
              "      <td>2349368</td>\n",
              "      <td>5503.90</td>\n",
              "    </tr>\n",
              "    <tr>\n",
              "      <th>4</th>\n",
              "      <td>2018-09-24</td>\n",
              "      <td>233.55</td>\n",
              "      <td>239.20</td>\n",
              "      <td>230.75</td>\n",
              "      <td>234.00</td>\n",
              "      <td>233.30</td>\n",
              "      <td>3423509</td>\n",
              "      <td>7999.55</td>\n",
              "    </tr>\n",
              "  </tbody>\n",
              "</table>\n",
              "</div>\n",
              "      <button class=\"colab-df-convert\" onclick=\"convertToInteractive('df-e1e78d8e-bbd8-48ec-b4c4-e900d8fa1f86')\"\n",
              "              title=\"Convert this dataframe to an interactive table.\"\n",
              "              style=\"display:none;\">\n",
              "        \n",
              "  <svg xmlns=\"http://www.w3.org/2000/svg\" height=\"24px\"viewBox=\"0 0 24 24\"\n",
              "       width=\"24px\">\n",
              "    <path d=\"M0 0h24v24H0V0z\" fill=\"none\"/>\n",
              "    <path d=\"M18.56 5.44l.94 2.06.94-2.06 2.06-.94-2.06-.94-.94-2.06-.94 2.06-2.06.94zm-11 1L8.5 8.5l.94-2.06 2.06-.94-2.06-.94L8.5 2.5l-.94 2.06-2.06.94zm10 10l.94 2.06.94-2.06 2.06-.94-2.06-.94-.94-2.06-.94 2.06-2.06.94z\"/><path d=\"M17.41 7.96l-1.37-1.37c-.4-.4-.92-.59-1.43-.59-.52 0-1.04.2-1.43.59L10.3 9.45l-7.72 7.72c-.78.78-.78 2.05 0 2.83L4 21.41c.39.39.9.59 1.41.59.51 0 1.02-.2 1.41-.59l7.78-7.78 2.81-2.81c.8-.78.8-2.07 0-2.86zM5.41 20L4 18.59l7.72-7.72 1.47 1.35L5.41 20z\"/>\n",
              "  </svg>\n",
              "      </button>\n",
              "      \n",
              "  <style>\n",
              "    .colab-df-container {\n",
              "      display:flex;\n",
              "      flex-wrap:wrap;\n",
              "      gap: 12px;\n",
              "    }\n",
              "\n",
              "    .colab-df-convert {\n",
              "      background-color: #E8F0FE;\n",
              "      border: none;\n",
              "      border-radius: 50%;\n",
              "      cursor: pointer;\n",
              "      display: none;\n",
              "      fill: #1967D2;\n",
              "      height: 32px;\n",
              "      padding: 0 0 0 0;\n",
              "      width: 32px;\n",
              "    }\n",
              "\n",
              "    .colab-df-convert:hover {\n",
              "      background-color: #E2EBFA;\n",
              "      box-shadow: 0px 1px 2px rgba(60, 64, 67, 0.3), 0px 1px 3px 1px rgba(60, 64, 67, 0.15);\n",
              "      fill: #174EA6;\n",
              "    }\n",
              "\n",
              "    [theme=dark] .colab-df-convert {\n",
              "      background-color: #3B4455;\n",
              "      fill: #D2E3FC;\n",
              "    }\n",
              "\n",
              "    [theme=dark] .colab-df-convert:hover {\n",
              "      background-color: #434B5C;\n",
              "      box-shadow: 0px 1px 3px 1px rgba(0, 0, 0, 0.15);\n",
              "      filter: drop-shadow(0px 1px 2px rgba(0, 0, 0, 0.3));\n",
              "      fill: #FFFFFF;\n",
              "    }\n",
              "  </style>\n",
              "\n",
              "      <script>\n",
              "        const buttonEl =\n",
              "          document.querySelector('#df-e1e78d8e-bbd8-48ec-b4c4-e900d8fa1f86 button.colab-df-convert');\n",
              "        buttonEl.style.display =\n",
              "          google.colab.kernel.accessAllowed ? 'block' : 'none';\n",
              "\n",
              "        async function convertToInteractive(key) {\n",
              "          const element = document.querySelector('#df-e1e78d8e-bbd8-48ec-b4c4-e900d8fa1f86');\n",
              "          const dataTable =\n",
              "            await google.colab.kernel.invokeFunction('convertToInteractive',\n",
              "                                                     [key], {});\n",
              "          if (!dataTable) return;\n",
              "\n",
              "          const docLinkHtml = 'Like what you see? Visit the ' +\n",
              "            '<a target=\"_blank\" href=https://colab.research.google.com/notebooks/data_table.ipynb>data table notebook</a>'\n",
              "            + ' to learn more about interactive tables.';\n",
              "          element.innerHTML = '';\n",
              "          dataTable['output_type'] = 'display_data';\n",
              "          await google.colab.output.renderOutput(dataTable, element);\n",
              "          const docLink = document.createElement('div');\n",
              "          docLink.innerHTML = docLinkHtml;\n",
              "          element.appendChild(docLink);\n",
              "        }\n",
              "      </script>\n",
              "    </div>\n",
              "  </div>\n",
              "  "
            ]
          },
          "metadata": {},
          "execution_count": 4
        }
      ]
    },
    {
      "cell_type": "markdown",
      "source": [
        "# **Exploring Data and Making required changes for better understanding**"
      ],
      "metadata": {
        "id": "qLTzmA95BBx2"
      }
    },
    {
      "cell_type": "code",
      "source": [
        "df.isnull().sum()"
      ],
      "metadata": {
        "colab": {
          "base_uri": "https://localhost:8080/"
        },
        "id": "94ZOcU3oBKVP",
        "outputId": "83f5fc95-cb5a-4642-e531-0ded88ee845e"
      },
      "execution_count": 6,
      "outputs": [
        {
          "output_type": "execute_result",
          "data": {
            "text/plain": [
              "Date                    0\n",
              "Open                    0\n",
              "High                    0\n",
              "Low                     0\n",
              "Last                    0\n",
              "Close                   0\n",
              "Total Trade Quantity    0\n",
              "Turnover (Lacs)         0\n",
              "dtype: int64"
            ]
          },
          "metadata": {},
          "execution_count": 6
        }
      ]
    },
    {
      "cell_type": "code",
      "source": [
        "df['Date'] = pd.to_datetime(df['Date'])"
      ],
      "metadata": {
        "id": "xS11AaM_BTX6"
      },
      "execution_count": 8,
      "outputs": []
    },
    {
      "cell_type": "code",
      "source": [
        "df1 = df.sort_values('Date')\n",
        "df1.head()"
      ],
      "metadata": {
        "colab": {
          "base_uri": "https://localhost:8080/",
          "height": 206
        },
        "id": "lUkrnE_VBdAg",
        "outputId": "a219b43e-a4e2-458c-bed0-73f2bb38a537"
      },
      "execution_count": 9,
      "outputs": [
        {
          "output_type": "execute_result",
          "data": {
            "text/plain": [
              "           Date   Open    High     Low    Last   Close  Total Trade Quantity  \\\n",
              "2034 2010-07-21  122.1  123.00  121.05  121.10  121.55                658666   \n",
              "2033 2010-07-22  120.3  122.00  120.25  120.75  120.90                293312   \n",
              "2032 2010-07-23  121.8  121.95  120.25  120.35  120.65                281312   \n",
              "2031 2010-07-26  120.1  121.00  117.10  117.10  117.60                658440   \n",
              "2030 2010-07-27  117.6  119.50  112.00  118.80  118.65                586100   \n",
              "\n",
              "      Turnover (Lacs)  \n",
              "2034           803.56  \n",
              "2033           355.17  \n",
              "2032           340.31  \n",
              "2031           780.01  \n",
              "2030           694.98  "
            ],
            "text/html": [
              "\n",
              "  <div id=\"df-1ab485c1-dcc3-4d72-abde-47bff04ba8d2\">\n",
              "    <div class=\"colab-df-container\">\n",
              "      <div>\n",
              "<style scoped>\n",
              "    .dataframe tbody tr th:only-of-type {\n",
              "        vertical-align: middle;\n",
              "    }\n",
              "\n",
              "    .dataframe tbody tr th {\n",
              "        vertical-align: top;\n",
              "    }\n",
              "\n",
              "    .dataframe thead th {\n",
              "        text-align: right;\n",
              "    }\n",
              "</style>\n",
              "<table border=\"1\" class=\"dataframe\">\n",
              "  <thead>\n",
              "    <tr style=\"text-align: right;\">\n",
              "      <th></th>\n",
              "      <th>Date</th>\n",
              "      <th>Open</th>\n",
              "      <th>High</th>\n",
              "      <th>Low</th>\n",
              "      <th>Last</th>\n",
              "      <th>Close</th>\n",
              "      <th>Total Trade Quantity</th>\n",
              "      <th>Turnover (Lacs)</th>\n",
              "    </tr>\n",
              "  </thead>\n",
              "  <tbody>\n",
              "    <tr>\n",
              "      <th>2034</th>\n",
              "      <td>2010-07-21</td>\n",
              "      <td>122.1</td>\n",
              "      <td>123.00</td>\n",
              "      <td>121.05</td>\n",
              "      <td>121.10</td>\n",
              "      <td>121.55</td>\n",
              "      <td>658666</td>\n",
              "      <td>803.56</td>\n",
              "    </tr>\n",
              "    <tr>\n",
              "      <th>2033</th>\n",
              "      <td>2010-07-22</td>\n",
              "      <td>120.3</td>\n",
              "      <td>122.00</td>\n",
              "      <td>120.25</td>\n",
              "      <td>120.75</td>\n",
              "      <td>120.90</td>\n",
              "      <td>293312</td>\n",
              "      <td>355.17</td>\n",
              "    </tr>\n",
              "    <tr>\n",
              "      <th>2032</th>\n",
              "      <td>2010-07-23</td>\n",
              "      <td>121.8</td>\n",
              "      <td>121.95</td>\n",
              "      <td>120.25</td>\n",
              "      <td>120.35</td>\n",
              "      <td>120.65</td>\n",
              "      <td>281312</td>\n",
              "      <td>340.31</td>\n",
              "    </tr>\n",
              "    <tr>\n",
              "      <th>2031</th>\n",
              "      <td>2010-07-26</td>\n",
              "      <td>120.1</td>\n",
              "      <td>121.00</td>\n",
              "      <td>117.10</td>\n",
              "      <td>117.10</td>\n",
              "      <td>117.60</td>\n",
              "      <td>658440</td>\n",
              "      <td>780.01</td>\n",
              "    </tr>\n",
              "    <tr>\n",
              "      <th>2030</th>\n",
              "      <td>2010-07-27</td>\n",
              "      <td>117.6</td>\n",
              "      <td>119.50</td>\n",
              "      <td>112.00</td>\n",
              "      <td>118.80</td>\n",
              "      <td>118.65</td>\n",
              "      <td>586100</td>\n",
              "      <td>694.98</td>\n",
              "    </tr>\n",
              "  </tbody>\n",
              "</table>\n",
              "</div>\n",
              "      <button class=\"colab-df-convert\" onclick=\"convertToInteractive('df-1ab485c1-dcc3-4d72-abde-47bff04ba8d2')\"\n",
              "              title=\"Convert this dataframe to an interactive table.\"\n",
              "              style=\"display:none;\">\n",
              "        \n",
              "  <svg xmlns=\"http://www.w3.org/2000/svg\" height=\"24px\"viewBox=\"0 0 24 24\"\n",
              "       width=\"24px\">\n",
              "    <path d=\"M0 0h24v24H0V0z\" fill=\"none\"/>\n",
              "    <path d=\"M18.56 5.44l.94 2.06.94-2.06 2.06-.94-2.06-.94-.94-2.06-.94 2.06-2.06.94zm-11 1L8.5 8.5l.94-2.06 2.06-.94-2.06-.94L8.5 2.5l-.94 2.06-2.06.94zm10 10l.94 2.06.94-2.06 2.06-.94-2.06-.94-.94-2.06-.94 2.06-2.06.94z\"/><path d=\"M17.41 7.96l-1.37-1.37c-.4-.4-.92-.59-1.43-.59-.52 0-1.04.2-1.43.59L10.3 9.45l-7.72 7.72c-.78.78-.78 2.05 0 2.83L4 21.41c.39.39.9.59 1.41.59.51 0 1.02-.2 1.41-.59l7.78-7.78 2.81-2.81c.8-.78.8-2.07 0-2.86zM5.41 20L4 18.59l7.72-7.72 1.47 1.35L5.41 20z\"/>\n",
              "  </svg>\n",
              "      </button>\n",
              "      \n",
              "  <style>\n",
              "    .colab-df-container {\n",
              "      display:flex;\n",
              "      flex-wrap:wrap;\n",
              "      gap: 12px;\n",
              "    }\n",
              "\n",
              "    .colab-df-convert {\n",
              "      background-color: #E8F0FE;\n",
              "      border: none;\n",
              "      border-radius: 50%;\n",
              "      cursor: pointer;\n",
              "      display: none;\n",
              "      fill: #1967D2;\n",
              "      height: 32px;\n",
              "      padding: 0 0 0 0;\n",
              "      width: 32px;\n",
              "    }\n",
              "\n",
              "    .colab-df-convert:hover {\n",
              "      background-color: #E2EBFA;\n",
              "      box-shadow: 0px 1px 2px rgba(60, 64, 67, 0.3), 0px 1px 3px 1px rgba(60, 64, 67, 0.15);\n",
              "      fill: #174EA6;\n",
              "    }\n",
              "\n",
              "    [theme=dark] .colab-df-convert {\n",
              "      background-color: #3B4455;\n",
              "      fill: #D2E3FC;\n",
              "    }\n",
              "\n",
              "    [theme=dark] .colab-df-convert:hover {\n",
              "      background-color: #434B5C;\n",
              "      box-shadow: 0px 1px 3px 1px rgba(0, 0, 0, 0.15);\n",
              "      filter: drop-shadow(0px 1px 2px rgba(0, 0, 0, 0.3));\n",
              "      fill: #FFFFFF;\n",
              "    }\n",
              "  </style>\n",
              "\n",
              "      <script>\n",
              "        const buttonEl =\n",
              "          document.querySelector('#df-1ab485c1-dcc3-4d72-abde-47bff04ba8d2 button.colab-df-convert');\n",
              "        buttonEl.style.display =\n",
              "          google.colab.kernel.accessAllowed ? 'block' : 'none';\n",
              "\n",
              "        async function convertToInteractive(key) {\n",
              "          const element = document.querySelector('#df-1ab485c1-dcc3-4d72-abde-47bff04ba8d2');\n",
              "          const dataTable =\n",
              "            await google.colab.kernel.invokeFunction('convertToInteractive',\n",
              "                                                     [key], {});\n",
              "          if (!dataTable) return;\n",
              "\n",
              "          const docLinkHtml = 'Like what you see? Visit the ' +\n",
              "            '<a target=\"_blank\" href=https://colab.research.google.com/notebooks/data_table.ipynb>data table notebook</a>'\n",
              "            + ' to learn more about interactive tables.';\n",
              "          element.innerHTML = '';\n",
              "          dataTable['output_type'] = 'display_data';\n",
              "          await google.colab.output.renderOutput(dataTable, element);\n",
              "          const docLink = document.createElement('div');\n",
              "          docLink.innerHTML = docLinkHtml;\n",
              "          element.appendChild(docLink);\n",
              "        }\n",
              "      </script>\n",
              "    </div>\n",
              "  </div>\n",
              "  "
            ]
          },
          "metadata": {},
          "execution_count": 9
        }
      ]
    },
    {
      "cell_type": "code",
      "source": [
        "df1.reset_index(inplace=True)"
      ],
      "metadata": {
        "id": "RgdQfHVyBm9Y"
      },
      "execution_count": 10,
      "outputs": []
    },
    {
      "cell_type": "markdown",
      "source": [
        "# **Visualizing the Data**"
      ],
      "metadata": {
        "id": "peoFwnjEBs_U"
      }
    },
    {
      "cell_type": "code",
      "source": [
        "plt.plot(df1['Close'])"
      ],
      "metadata": {
        "colab": {
          "base_uri": "https://localhost:8080/",
          "height": 447
        },
        "id": "VbiPylYRB2IE",
        "outputId": "03e46155-b2ea-438e-8f1e-2237f4bc64af"
      },
      "execution_count": 11,
      "outputs": [
        {
          "output_type": "execute_result",
          "data": {
            "text/plain": [
              "[<matplotlib.lines.Line2D at 0x7f2308cfbb80>]"
            ]
          },
          "metadata": {},
          "execution_count": 11
        },
        {
          "output_type": "display_data",
          "data": {
            "text/plain": [
              "<Figure size 640x480 with 1 Axes>"
            ],
            "image/png": "[encoded data removed]"
          },
          "metadata": {}
        }
      ]
    },
    {
      "cell_type": "code",
      "source": [
        "df1_close = df1['Close']\n",
        "df1_close"
      ],
      "metadata": {
        "colab": {
          "base_uri": "https://localhost:8080/"
        },
        "id": "u201XDfRB-Bi",
        "outputId": "55ea5960-572d-4b67-c499-32771269da49"
      },
      "execution_count": 12,
      "outputs": [
        {
          "output_type": "execute_result",
          "data": {
            "text/plain": [
              "0       121.55\n",
              "1       120.90\n",
              "2       120.65\n",
              "3       117.60\n",
              "4       118.65\n",
              "         ...  \n",
              "2030    233.30\n",
              "2031    236.10\n",
              "2032    234.25\n",
              "2033    233.25\n",
              "2034    233.75\n",
              "Name: Close, Length: 2035, dtype: float64"
            ]
          },
          "metadata": {},
          "execution_count": 12
        }
      ]
    },
    {
      "cell_type": "code",
      "source": [
        "scaler = MinMaxScaler(feature_range=(0,1))"
      ],
      "metadata": {
        "id": "Dg-ko7hgCFSr"
      },
      "execution_count": 13,
      "outputs": []
    },
    {
      "cell_type": "code",
      "source": [
        "df1_close = scaler.fit_transform(np.array(df1_close).reshape(-1,1))\n",
        "df1_close"
      ],
      "metadata": {
        "colab": {
          "base_uri": "https://localhost:8080/"
        },
        "id": "qNQuwcy1CJfC",
        "outputId": "b56263bd-8e64-4e40-b7ac-425fc83735f5"
      },
      "execution_count": 15,
      "outputs": [
        {
          "output_type": "execute_result",
          "data": {
            "text/plain": [
              "array([[0.16584967],\n",
              "       [0.16319444],\n",
              "       [0.1621732 ],\n",
              "       ...,\n",
              "       [0.62622549],\n",
              "       [0.62214052],\n",
              "       [0.62418301]])"
            ]
          },
          "metadata": {},
          "execution_count": 15
        }
      ]
    },
    {
      "cell_type": "markdown",
      "source": [
        "# **split the data**\n",
        "\n"
      ],
      "metadata": {
        "id": "LcyckcUlCZm3"
      }
    },
    {
      "cell_type": "code",
      "source": [
        "training_size = int(len(df1_close)*0.70)\n",
        "test_size = len(df1_close) - training_size\n",
        "train, test = df1_close[0: training_size,:], df1_close[training_size : len(df1_close),:1]"
      ],
      "metadata": {
        "id": "dgntWgNWCgXb"
      },
      "execution_count": 17,
      "outputs": []
    },
    {
      "cell_type": "code",
      "source": [
        "# Let us convert the array values previously calculated into a matrix\n",
        "def create_mat(ds, time_step = 1):\n",
        "    dataX, dataY = [], []\n",
        "    for i in range(len(ds)-time_step-1):\n",
        "        a = ds[i:(i+time_step),0]\n",
        "        dataX.append(a)\n",
        "        dataY.append(ds[i + time_step, 0])\n",
        "    return np.array(dataX), np.array(dataY)"
      ],
      "metadata": {
        "id": "bMiTqQZkCt6g"
      },
      "execution_count": 18,
      "outputs": []
    },
    {
      "cell_type": "code",
      "source": [
        "time_step = 100\n",
        "X_train, y_train = create_mat(train, time_step)\n",
        "X_test, y_test = create_mat(test, time_step)"
      ],
      "metadata": {
        "id": "IUTtq8orCyE1"
      },
      "execution_count": 19,
      "outputs": []
    },
    {
      "cell_type": "code",
      "source": [
        "X_train.shape"
      ],
      "metadata": {
        "colab": {
          "base_uri": "https://localhost:8080/"
        },
        "id": "A-qxnQ0uC0jI",
        "outputId": "b4209755-7cc8-4798-a5d5-70957169295a"
      },
      "execution_count": 20,
      "outputs": [
        {
          "output_type": "execute_result",
          "data": {
            "text/plain": [
              "(1323, 100)"
            ]
          },
          "metadata": {},
          "execution_count": 20
        }
      ]
    },
    {
      "cell_type": "code",
      "source": [
        "y_train.shape"
      ],
      "metadata": {
        "colab": {
          "base_uri": "https://localhost:8080/"
        },
        "id": "xG537zYuC9M1",
        "outputId": "cb3b51e5-b724-450d-c20f-d100ab993a2f"
      },
      "execution_count": 21,
      "outputs": [
        {
          "output_type": "execute_result",
          "data": {
            "text/plain": [
              "(1323,)"
            ]
          },
          "metadata": {},
          "execution_count": 21
        }
      ]
    },
    {
      "cell_type": "code",
      "source": [
        "X_test.shape"
      ],
      "metadata": {
        "colab": {
          "base_uri": "https://localhost:8080/"
        },
        "id": "MNJepeUJDAHS",
        "outputId": "f2302182-b6e4-4a54-a445-8d7d152d1066"
      },
      "execution_count": 22,
      "outputs": [
        {
          "output_type": "execute_result",
          "data": {
            "text/plain": [
              "(510, 100)"
            ]
          },
          "metadata": {},
          "execution_count": 22
        }
      ]
    },
    {
      "cell_type": "code",
      "source": [
        "y_test.shape"
      ],
      "metadata": {
        "colab": {
          "base_uri": "https://localhost:8080/"
        },
        "id": "YsXC--0tDCuL",
        "outputId": "8d7373d7-bbaf-45ca-cf52-52c9616a8de6"
      },
      "execution_count": 23,
      "outputs": [
        {
          "output_type": "execute_result",
          "data": {
            "text/plain": [
              "(510,)"
            ]
          },
          "metadata": {},
          "execution_count": 23
        }
      ]
    },
    {
      "cell_type": "code",
      "source": [
        "X_train = X_train.reshape(X_train.shape[0], X_train.shape[1], 1)\n",
        "X_test = X_test.reshape(X_test.shape[0], X_test.shape[1], 1)"
      ],
      "metadata": {
        "id": "D05U5mSzDH4v"
      },
      "execution_count": 24,
      "outputs": []
    },
    {
      "cell_type": "markdown",
      "source": [
        "## **Create the LSTM Model**"
      ],
      "metadata": {
        "id": "SCRH_am0DLe7"
      }
    },
    {
      "cell_type": "code",
      "source": [
        "from tensorflow.keras.models import Sequential\n",
        "from tensorflow.keras.layers import Dense\n",
        "from tensorflow.keras.layers import LSTM"
      ],
      "metadata": {
        "id": "8Wyu2qtNDRcZ"
      },
      "execution_count": 25,
      "outputs": []
    },
    {
      "cell_type": "code",
      "source": [
        "model = Sequential()\n",
        "model.add(LSTM(50,return_sequences=True,input_shape=(100,1)))\n",
        "model.add(LSTM(50,return_sequences=True))\n",
        "model.add(LSTM(50))\n",
        "model.add(Dense(1))\n",
        "model.compile(loss='mean_squared_error',optimizer='adam')\n",
        "model.summary()"
      ],
      "metadata": {
        "colab": {
          "base_uri": "https://localhost:8080/"
        },
        "id": "HHQVc0Y3DX87",
        "outputId": "32a15ecb-e973-46e2-b57d-c684fc51499a"
      },
      "execution_count": 26,
      "outputs": [
        {
          "output_type": "stream",
          "name": "stdout",
          "text": [
            "Model: \"sequential\"\n",
            "_________________________________________________________________\n",
            " Layer (type)                Output Shape              Param #   \n",
            "=================================================================\n",
            " lstm (LSTM)                 (None, 100, 50)           10400     \n",
            "                                                                 \n",
            " lstm_1 (LSTM)               (None, 100, 50)           20200     \n",
            "                                                                 \n",
            " lstm_2 (LSTM)               (None, 50)                20200     \n",
            "                                                                 \n",
            " dense (Dense)               (None, 1)                 51        \n",
            "                                                                 \n",
            "=================================================================\n",
            "Total params: 50,851\n",
            "Trainable params: 50,851\n",
            "Non-trainable params: 0\n",
            "_________________________________________________________________\n"
          ]
        }
      ]
    },
    {
      "cell_type": "code",
      "source": [
        "model.fit(X_train, y_train, validation_split=0.1, epochs= 60, batch_size=64, verbose = 1)"
      ],
      "metadata": {
        "colab": {
          "base_uri": "https://localhost:8080/"
        },
        "id": "AnU_DcHrDlnR",
        "outputId": "5b0b95a7-e96d-4609-b411-084650ddbdd6"
      },
      "execution_count": 27,
      "outputs": [
        {
          "output_type": "stream",
          "name": "stdout",
          "text": [
            "Epoch 1/60\n",
            "19/19 [==============================] - 13s 358ms/step - loss: 0.0098 - val_loss: 0.0019\n",
            "Epoch 2/60\n",
            "19/19 [==============================] - 4s 193ms/step - loss: 0.0016 - val_loss: 0.0013\n",
            "Epoch 3/60\n",
            "19/19 [==============================] - 4s 192ms/step - loss: 9.0369e-04 - val_loss: 0.0011\n",
            "Epoch 4/60\n",
            "19/19 [==============================] - 5s 255ms/step - loss: 8.6761e-04 - val_loss: 0.0011\n",
            "Epoch 5/60\n",
            "19/19 [==============================] - 4s 196ms/step - loss: 7.9717e-04 - val_loss: 0.0011\n",
            "Epoch 6/60\n",
            "19/19 [==============================] - 4s 192ms/step - loss: 7.6493e-04 - val_loss: 0.0010\n",
            "Epoch 7/60\n",
            "19/19 [==============================] - 5s 256ms/step - loss: 7.5140e-04 - val_loss: 0.0010\n",
            "Epoch 8/60\n",
            "19/19 [==============================] - 4s 190ms/step - loss: 7.5329e-04 - val_loss: 9.5309e-04\n",
            "Epoch 9/60\n",
            "19/19 [==============================] - 4s 200ms/step - loss: 7.5277e-04 - val_loss: 8.8658e-04\n",
            "Epoch 10/60\n",
            "19/19 [==============================] - 5s 255ms/step - loss: 7.3578e-04 - val_loss: 8.4321e-04\n",
            "Epoch 11/60\n",
            "19/19 [==============================] - 4s 189ms/step - loss: 6.6800e-04 - val_loss: 8.3988e-04\n",
            "Epoch 12/60\n",
            "19/19 [==============================] - 4s 195ms/step - loss: 6.6352e-04 - val_loss: 7.8386e-04\n",
            "Epoch 13/60\n",
            "19/19 [==============================] - 4s 231ms/step - loss: 6.5800e-04 - val_loss: 7.4714e-04\n",
            "Epoch 14/60\n",
            "19/19 [==============================] - 4s 211ms/step - loss: 6.3479e-04 - val_loss: 8.8861e-04\n",
            "Epoch 15/60\n",
            "19/19 [==============================] - 4s 191ms/step - loss: 6.2556e-04 - val_loss: 7.5980e-04\n",
            "Epoch 16/60\n",
            "19/19 [==============================] - 4s 212ms/step - loss: 6.0947e-04 - val_loss: 7.2439e-04\n",
            "Epoch 17/60\n",
            "19/19 [==============================] - 5s 235ms/step - loss: 5.7791e-04 - val_loss: 6.5860e-04\n",
            "Epoch 18/60\n",
            "19/19 [==============================] - 4s 190ms/step - loss: 5.5634e-04 - val_loss: 6.5199e-04\n",
            "Epoch 19/60\n",
            "19/19 [==============================] - 4s 195ms/step - loss: 5.9568e-04 - val_loss: 7.6484e-04\n",
            "Epoch 20/60\n",
            "19/19 [==============================] - 5s 262ms/step - loss: 5.6976e-04 - val_loss: 6.2722e-04\n",
            "Epoch 21/60\n",
            "19/19 [==============================] - 4s 194ms/step - loss: 5.4767e-04 - val_loss: 5.9221e-04\n",
            "Epoch 22/60\n",
            "19/19 [==============================] - 4s 193ms/step - loss: 5.2223e-04 - val_loss: 6.7274e-04\n",
            "Epoch 23/60\n",
            "19/19 [==============================] - 5s 262ms/step - loss: 5.0222e-04 - val_loss: 6.0293e-04\n",
            "Epoch 24/60\n",
            "19/19 [==============================] - 4s 191ms/step - loss: 5.0240e-04 - val_loss: 5.0743e-04\n",
            "Epoch 25/60\n",
            "19/19 [==============================] - 4s 197ms/step - loss: 5.4974e-04 - val_loss: 5.9879e-04\n",
            "Epoch 26/60\n",
            "19/19 [==============================] - 5s 258ms/step - loss: 4.8166e-04 - val_loss: 4.8786e-04\n",
            "Epoch 27/60\n",
            "19/19 [==============================] - 4s 193ms/step - loss: 4.6376e-04 - val_loss: 4.7968e-04\n",
            "Epoch 28/60\n",
            "19/19 [==============================] - 4s 192ms/step - loss: 4.5901e-04 - val_loss: 4.7665e-04\n",
            "Epoch 29/60\n",
            "19/19 [==============================] - 5s 246ms/step - loss: 4.4079e-04 - val_loss: 5.4583e-04\n",
            "Epoch 30/60\n",
            "19/19 [==============================] - 4s 201ms/step - loss: 4.3389e-04 - val_loss: 4.4978e-04\n",
            "Epoch 31/60\n",
            "19/19 [==============================] - 4s 199ms/step - loss: 4.4095e-04 - val_loss: 6.0495e-04\n",
            "Epoch 32/60\n",
            "19/19 [==============================] - 4s 222ms/step - loss: 4.5949e-04 - val_loss: 4.5301e-04\n",
            "Epoch 33/60\n",
            "19/19 [==============================] - 4s 215ms/step - loss: 3.9802e-04 - val_loss: 4.3033e-04\n",
            "Epoch 34/60\n",
            "19/19 [==============================] - 4s 192ms/step - loss: 4.1114e-04 - val_loss: 4.3557e-04\n",
            "Epoch 35/60\n",
            "19/19 [==============================] - 4s 191ms/step - loss: 4.0563e-04 - val_loss: 5.5381e-04\n",
            "Epoch 36/60\n",
            "19/19 [==============================] - 5s 253ms/step - loss: 4.4379e-04 - val_loss: 3.7185e-04\n",
            "Epoch 37/60\n",
            "19/19 [==============================] - 4s 197ms/step - loss: 3.7133e-04 - val_loss: 3.6428e-04\n",
            "Epoch 38/60\n",
            "19/19 [==============================] - 4s 194ms/step - loss: 3.6223e-04 - val_loss: 3.9420e-04\n",
            "Epoch 39/60\n",
            "19/19 [==============================] - 5s 258ms/step - loss: 3.5726e-04 - val_loss: 3.3852e-04\n",
            "Epoch 40/60\n",
            "19/19 [==============================] - 4s 194ms/step - loss: 3.4160e-04 - val_loss: 4.0262e-04\n",
            "Epoch 41/60\n",
            "19/19 [==============================] - 4s 194ms/step - loss: 3.4203e-04 - val_loss: 3.1700e-04\n",
            "Epoch 42/60\n",
            "19/19 [==============================] - 5s 259ms/step - loss: 3.3412e-04 - val_loss: 3.6844e-04\n",
            "Epoch 43/60\n",
            "19/19 [==============================] - 4s 191ms/step - loss: 3.3026e-04 - val_loss: 3.8835e-04\n",
            "Epoch 44/60\n",
            "19/19 [==============================] - 4s 194ms/step - loss: 3.2863e-04 - val_loss: 2.9846e-04\n",
            "Epoch 45/60\n",
            "19/19 [==============================] - 5s 253ms/step - loss: 3.2167e-04 - val_loss: 2.8506e-04\n",
            "Epoch 46/60\n",
            "19/19 [==============================] - 4s 195ms/step - loss: 3.1703e-04 - val_loss: 2.8132e-04\n",
            "Epoch 47/60\n",
            "19/19 [==============================] - 4s 193ms/step - loss: 2.9180e-04 - val_loss: 3.4376e-04\n",
            "Epoch 48/60\n",
            "19/19 [==============================] - 4s 222ms/step - loss: 3.0735e-04 - val_loss: 2.5543e-04\n",
            "Epoch 49/60\n",
            "19/19 [==============================] - 4s 227ms/step - loss: 2.9467e-04 - val_loss: 2.5437e-04\n",
            "Epoch 50/60\n",
            "19/19 [==============================] - 4s 204ms/step - loss: 2.8029e-04 - val_loss: 2.6620e-04\n",
            "Epoch 51/60\n",
            "19/19 [==============================] - 4s 209ms/step - loss: 2.9387e-04 - val_loss: 3.2401e-04\n",
            "Epoch 52/60\n",
            "19/19 [==============================] - 5s 241ms/step - loss: 3.2562e-04 - val_loss: 2.3994e-04\n",
            "Epoch 53/60\n",
            "19/19 [==============================] - 4s 195ms/step - loss: 3.0207e-04 - val_loss: 2.4111e-04\n",
            "Epoch 54/60\n",
            "19/19 [==============================] - 4s 192ms/step - loss: 2.5202e-04 - val_loss: 2.7140e-04\n",
            "Epoch 55/60\n",
            "19/19 [==============================] - 5s 264ms/step - loss: 2.5048e-04 - val_loss: 2.2474e-04\n",
            "Epoch 56/60\n",
            "19/19 [==============================] - 4s 193ms/step - loss: 2.4394e-04 - val_loss: 2.1336e-04\n",
            "Epoch 57/60\n",
            "19/19 [==============================] - 4s 197ms/step - loss: 2.3352e-04 - val_loss: 2.1107e-04\n",
            "Epoch 58/60\n",
            "19/19 [==============================] - 5s 257ms/step - loss: 2.5798e-04 - val_loss: 2.2885e-04\n",
            "Epoch 59/60\n",
            "19/19 [==============================] - 4s 197ms/step - loss: 2.2726e-04 - val_loss: 2.0722e-04\n",
            "Epoch 60/60\n",
            "19/19 [==============================] - 4s 191ms/step - loss: 2.2355e-04 - val_loss: 2.8830e-04\n"
          ]
        },
        {
          "output_type": "execute_result",
          "data": {
            "text/plain": [
              "<keras.callbacks.History at 0x7f230444fa90>"
            ]
          },
          "metadata": {},
          "execution_count": 27
        }
      ]
    },
    {
      "cell_type": "markdown",
      "source": [
        "# **Prediction**"
      ],
      "metadata": {
        "id": "UWEkh2KpEroK"
      }
    },
    {
      "cell_type": "code",
      "source": [
        "predictions = model.predict(X_test)"
      ],
      "metadata": {
        "colab": {
          "base_uri": "https://localhost:8080/"
        },
        "id": "es18zc99Ev-O",
        "outputId": "7821d9d7-2b23-424e-9da5-6ae2b9958a0e"
      },
      "execution_count": 28,
      "outputs": [
        {
          "output_type": "stream",
          "name": "stdout",
          "text": [
            "16/16 [==============================] - 2s 44ms/step\n"
          ]
        }
      ]
    },
    {
      "cell_type": "code",
      "source": [
        "# performing inverse transform on predictions\n",
        "inv_predictions = scaler.inverse_transform(predictions)"
      ],
      "metadata": {
        "id": "Zk9FNmhLE5qk"
      },
      "execution_count": 29,
      "outputs": []
    },
    {
      "cell_type": "code",
      "source": [
        "inv_predictions"
      ],
      "metadata": {
        "colab": {
          "base_uri": "https://localhost:8080/"
        },
        "id": "nvkmSxKVE9Ey",
        "outputId": "01d1d9ae-f97a-41cc-c112-7c837db91443"
      },
      "execution_count": 30,
      "outputs": [
        {
          "output_type": "execute_result",
          "data": {
            "text/plain": [
              "array([[144.12302 ],\n",
              "       [144.42386 ],\n",
              "       [143.80803 ],\n",
              "       [141.60536 ],\n",
              "       [139.81609 ],\n",
              "       [138.84238 ],\n",
              "       [139.39742 ],\n",
              "       [140.67531 ],\n",
              "       [141.35896 ],\n",
              "       [141.43018 ],\n",
              "       [141.40514 ],\n",
              "       [142.35652 ],\n",
              "       [143.12502 ],\n",
              "       [144.53557 ],\n",
              "       [146.56036 ],\n",
              "       [145.43115 ],\n",
              "       [143.42056 ],\n",
              "       [142.58037 ],\n",
              "       [142.62152 ],\n",
              "       [146.40685 ],\n",
              "       [150.6181  ],\n",
              "       [153.52364 ],\n",
              "       [154.79015 ],\n",
              "       [153.58437 ],\n",
              "       [153.09991 ],\n",
              "       [152.47417 ],\n",
              "       [152.40054 ],\n",
              "       [153.55885 ],\n",
              "       [154.33679 ],\n",
              "       [154.6136  ],\n",
              "       [155.0842  ],\n",
              "       [154.29565 ],\n",
              "       [151.60286 ],\n",
              "       [146.54047 ],\n",
              "       [142.66425 ],\n",
              "       [140.76044 ],\n",
              "       [140.27956 ],\n",
              "       [139.61856 ],\n",
              "       [137.96875 ],\n",
              "       [135.06335 ],\n",
              "       [132.64207 ],\n",
              "       [131.13634 ],\n",
              "       [129.123   ],\n",
              "       [128.0517  ],\n",
              "       [126.235664],\n",
              "       [123.903786],\n",
              "       [122.854256],\n",
              "       [122.27675 ],\n",
              "       [122.283676],\n",
              "       [121.57073 ],\n",
              "       [120.81715 ],\n",
              "       [120.341805],\n",
              "       [119.575874],\n",
              "       [119.46673 ],\n",
              "       [120.36274 ],\n",
              "       [121.842285],\n",
              "       [123.646484],\n",
              "       [124.704185],\n",
              "       [124.873474],\n",
              "       [124.98174 ],\n",
              "       [125.07352 ],\n",
              "       [124.88576 ],\n",
              "       [124.927505],\n",
              "       [125.16947 ],\n",
              "       [125.346596],\n",
              "       [125.43455 ],\n",
              "       [125.333626],\n",
              "       [125.56173 ],\n",
              "       [125.953384],\n",
              "       [126.32816 ],\n",
              "       [125.87591 ],\n",
              "       [125.0956  ],\n",
              "       [123.89941 ],\n",
              "       [122.65297 ],\n",
              "       [121.31851 ],\n",
              "       [121.04539 ],\n",
              "       [121.331955],\n",
              "       [122.12183 ],\n",
              "       [123.18574 ],\n",
              "       [124.459915],\n",
              "       [125.72779 ],\n",
              "       [126.63873 ],\n",
              "       [127.2457  ],\n",
              "       [127.39809 ],\n",
              "       [127.262215],\n",
              "       [126.94973 ],\n",
              "       [127.37057 ],\n",
              "       [127.6183  ],\n",
              "       [128.38123 ],\n",
              "       [129.15372 ],\n",
              "       [129.67856 ],\n",
              "       [130.17844 ],\n",
              "       [131.03163 ],\n",
              "       [130.89069 ],\n",
              "       [130.4889  ],\n",
              "       [130.28561 ],\n",
              "       [130.27754 ],\n",
              "       [130.59145 ],\n",
              "       [131.32707 ],\n",
              "       [131.71411 ],\n",
              "       [132.0482  ],\n",
              "       [134.22113 ],\n",
              "       [138.13568 ],\n",
              "       [142.15816 ],\n",
              "       [144.5908  ],\n",
              "       [146.54541 ],\n",
              "       [147.11957 ],\n",
              "       [146.69731 ],\n",
              "       [145.33984 ],\n",
              "       [143.72589 ],\n",
              "       [141.87767 ],\n",
              "       [140.9105  ],\n",
              "       [140.86536 ],\n",
              "       [141.78404 ],\n",
              "       [142.99327 ],\n",
              "       [143.51974 ],\n",
              "       [143.26141 ],\n",
              "       [142.5833  ],\n",
              "       [141.68355 ],\n",
              "       [142.49658 ],\n",
              "       [143.41032 ],\n",
              "       [144.55978 ],\n",
              "       [145.45566 ],\n",
              "       [145.73958 ],\n",
              "       [145.17952 ],\n",
              "       [144.15085 ],\n",
              "       [142.17232 ],\n",
              "       [140.94571 ],\n",
              "       [141.02838 ],\n",
              "       [142.89833 ],\n",
              "       [145.23526 ],\n",
              "       [147.47716 ],\n",
              "       [148.77415 ],\n",
              "       [148.2593  ],\n",
              "       [149.4124  ],\n",
              "       [151.23532 ],\n",
              "       [151.8997  ],\n",
              "       [152.1719  ],\n",
              "       [152.24733 ],\n",
              "       [152.07867 ],\n",
              "       [151.9724  ],\n",
              "       [152.40276 ],\n",
              "       [153.26831 ],\n",
              "       [154.21587 ],\n",
              "       [154.111   ],\n",
              "       [153.55463 ],\n",
              "       [153.81085 ],\n",
              "       [153.98318 ],\n",
              "       [153.58488 ],\n",
              "       [152.67744 ],\n",
              "       [151.43503 ],\n",
              "       [151.1036  ],\n",
              "       [152.06229 ],\n",
              "       [153.12738 ],\n",
              "       [154.001   ],\n",
              "       [154.38768 ],\n",
              "       [155.01802 ],\n",
              "       [155.07346 ],\n",
              "       [155.03998 ],\n",
              "       [156.4768  ],\n",
              "       [157.79509 ],\n",
              "       [158.16263 ],\n",
              "       [156.856   ],\n",
              "       [155.21637 ],\n",
              "       [154.55995 ],\n",
              "       [154.98619 ],\n",
              "       [155.55647 ],\n",
              "       [155.52098 ],\n",
              "       [155.80301 ],\n",
              "       [156.2026  ],\n",
              "       [155.9922  ],\n",
              "       [153.77245 ],\n",
              "       [151.84831 ],\n",
              "       [150.37924 ],\n",
              "       [148.69135 ],\n",
              "       [146.48656 ],\n",
              "       [145.14336 ],\n",
              "       [145.93361 ],\n",
              "       [147.23158 ],\n",
              "       [148.27419 ],\n",
              "       [149.94124 ],\n",
              "       [152.38054 ],\n",
              "       [155.16745 ],\n",
              "       [157.148   ],\n",
              "       [157.24622 ],\n",
              "       [157.021   ],\n",
              "       [156.48317 ],\n",
              "       [155.86432 ],\n",
              "       [154.68546 ],\n",
              "       [155.0225  ],\n",
              "       [156.88387 ],\n",
              "       [159.1471  ],\n",
              "       [160.48979 ],\n",
              "       [160.23393 ],\n",
              "       [159.39919 ],\n",
              "       [158.64621 ],\n",
              "       [157.56274 ],\n",
              "       [155.48607 ],\n",
              "       [152.40486 ],\n",
              "       [150.50565 ],\n",
              "       [149.83362 ],\n",
              "       [150.69597 ],\n",
              "       [152.40555 ],\n",
              "       [153.45743 ],\n",
              "       [155.63704 ],\n",
              "       [156.90086 ],\n",
              "       [158.45909 ],\n",
              "       [162.61577 ],\n",
              "       [167.82968 ],\n",
              "       [173.0139  ],\n",
              "       [176.68008 ],\n",
              "       [177.47409 ],\n",
              "       [177.37268 ],\n",
              "       [175.66417 ],\n",
              "       [174.28796 ],\n",
              "       [172.30516 ],\n",
              "       [171.20169 ],\n",
              "       [170.38481 ],\n",
              "       [170.59898 ],\n",
              "       [171.85349 ],\n",
              "       [171.82281 ],\n",
              "       [171.41354 ],\n",
              "       [171.26326 ],\n",
              "       [170.57565 ],\n",
              "       [168.93034 ],\n",
              "       [167.98744 ],\n",
              "       [167.76167 ],\n",
              "       [169.40834 ],\n",
              "       [169.75385 ],\n",
              "       [167.65521 ],\n",
              "       [162.93756 ],\n",
              "       [161.62946 ],\n",
              "       [168.09668 ],\n",
              "       [182.28366 ],\n",
              "       [193.73201 ],\n",
              "       [199.66634 ],\n",
              "       [200.60658 ],\n",
              "       [195.55266 ],\n",
              "       [192.43549 ],\n",
              "       [190.80373 ],\n",
              "       [190.03815 ],\n",
              "       [188.85341 ],\n",
              "       [191.22516 ],\n",
              "       [195.17363 ],\n",
              "       [198.01183 ],\n",
              "       [197.10281 ],\n",
              "       [196.39636 ],\n",
              "       [200.59283 ],\n",
              "       [205.17696 ],\n",
              "       [207.90588 ],\n",
              "       [209.35693 ],\n",
              "       [210.73004 ],\n",
              "       [208.86935 ],\n",
              "       [208.4785  ],\n",
              "       [208.34998 ],\n",
              "       [209.66449 ],\n",
              "       [212.54507 ],\n",
              "       [213.47423 ],\n",
              "       [212.18887 ],\n",
              "       [205.09799 ],\n",
              "       [196.86014 ],\n",
              "       [196.46465 ],\n",
              "       [197.38641 ],\n",
              "       [200.52394 ],\n",
              "       [204.77254 ],\n",
              "       [207.83318 ],\n",
              "       [207.93324 ],\n",
              "       [208.54915 ],\n",
              "       [209.04723 ],\n",
              "       [208.2388  ],\n",
              "       [207.04437 ],\n",
              "       [206.66812 ],\n",
              "       [208.13698 ],\n",
              "       [208.8795  ],\n",
              "       [208.52812 ],\n",
              "       [208.28783 ],\n",
              "       [206.59308 ],\n",
              "       [204.00671 ],\n",
              "       [201.7198  ],\n",
              "       [204.05858 ],\n",
              "       [205.49435 ],\n",
              "       [207.82797 ],\n",
              "       [214.9156  ],\n",
              "       [223.9454  ],\n",
              "       [228.85043 ],\n",
              "       [229.03294 ],\n",
              "       [225.73393 ],\n",
              "       [221.7252  ],\n",
              "       [224.50468 ],\n",
              "       [223.67769 ],\n",
              "       [221.1937  ],\n",
              "       [228.53867 ],\n",
              "       [234.44554 ],\n",
              "       [235.02588 ],\n",
              "       [239.88478 ],\n",
              "       [246.44571 ],\n",
              "       [250.00142 ],\n",
              "       [254.31297 ],\n",
              "       [265.10345 ],\n",
              "       [270.50903 ],\n",
              "       [269.79282 ],\n",
              "       [267.05487 ],\n",
              "       [267.53394 ],\n",
              "       [268.26666 ],\n",
              "       [275.44293 ],\n",
              "       [276.13544 ],\n",
              "       [278.3171  ],\n",
              "       [277.80823 ],\n",
              "       [273.5904  ],\n",
              "       [271.54755 ],\n",
              "       [268.81827 ],\n",
              "       [273.82233 ],\n",
              "       [281.9193  ],\n",
              "       [292.21545 ],\n",
              "       [289.08847 ],\n",
              "       [279.74777 ],\n",
              "       [274.0471  ],\n",
              "       [275.22852 ],\n",
              "       [281.07907 ],\n",
              "       [291.57574 ],\n",
              "       [296.9704  ],\n",
              "       [295.75336 ],\n",
              "       [294.1309  ],\n",
              "       [295.23102 ],\n",
              "       [295.9909  ],\n",
              "       [296.70438 ],\n",
              "       [303.77194 ],\n",
              "       [306.00528 ],\n",
              "       [303.46698 ],\n",
              "       [301.14505 ],\n",
              "       [301.4581  ],\n",
              "       [303.21725 ],\n",
              "       [307.7293  ],\n",
              "       [308.65128 ],\n",
              "       [306.72498 ],\n",
              "       [304.6299  ],\n",
              "       [312.63535 ],\n",
              "       [316.63742 ],\n",
              "       [311.27084 ],\n",
              "       [304.3453  ],\n",
              "       [296.38184 ],\n",
              "       [296.1717  ],\n",
              "       [299.99484 ],\n",
              "       [301.87317 ],\n",
              "       [299.92892 ],\n",
              "       [297.99228 ],\n",
              "       [295.59506 ],\n",
              "       [295.97723 ],\n",
              "       [287.78232 ],\n",
              "       [280.44586 ],\n",
              "       [269.77347 ],\n",
              "       [264.36072 ],\n",
              "       [261.09396 ],\n",
              "       [270.12817 ],\n",
              "       [278.62503 ],\n",
              "       [279.3103  ],\n",
              "       [280.2954  ],\n",
              "       [277.87808 ],\n",
              "       [272.73087 ],\n",
              "       [267.1407  ],\n",
              "       [259.98297 ],\n",
              "       [253.91414 ],\n",
              "       [255.32913 ],\n",
              "       [256.7142  ],\n",
              "       [263.0273  ],\n",
              "       [269.50262 ],\n",
              "       [272.52905 ],\n",
              "       [271.98972 ],\n",
              "       [269.32065 ],\n",
              "       [267.50684 ],\n",
              "       [265.95395 ],\n",
              "       [262.0595  ],\n",
              "       [262.8956  ],\n",
              "       [262.33682 ],\n",
              "       [266.741   ],\n",
              "       [272.10153 ],\n",
              "       [274.43903 ],\n",
              "       [274.533   ],\n",
              "       [268.7322  ],\n",
              "       [256.49313 ],\n",
              "       [250.85109 ],\n",
              "       [252.84076 ],\n",
              "       [254.33788 ],\n",
              "       [254.52557 ],\n",
              "       [257.20184 ],\n",
              "       [260.31433 ],\n",
              "       [258.12762 ],\n",
              "       [266.11993 ],\n",
              "       [271.68253 ],\n",
              "       [268.70648 ],\n",
              "       [265.416   ],\n",
              "       [263.76825 ],\n",
              "       [266.91293 ],\n",
              "       [268.56735 ],\n",
              "       [267.5488  ],\n",
              "       [266.4263  ],\n",
              "       [267.34543 ],\n",
              "       [271.35837 ],\n",
              "       [274.93    ],\n",
              "       [277.9449  ],\n",
              "       [279.98953 ],\n",
              "       [280.06616 ],\n",
              "       [277.23813 ],\n",
              "       [274.72296 ],\n",
              "       [278.05713 ],\n",
              "       [283.02335 ],\n",
              "       [285.8814  ],\n",
              "       [289.61026 ],\n",
              "       [287.83286 ],\n",
              "       [280.71268 ],\n",
              "       [277.24945 ],\n",
              "       [282.17786 ],\n",
              "       [284.24893 ],\n",
              "       [285.45114 ],\n",
              "       [281.26495 ],\n",
              "       [279.3321  ],\n",
              "       [258.66696 ],\n",
              "       [236.32384 ],\n",
              "       [228.37326 ],\n",
              "       [235.9452  ],\n",
              "       [244.26013 ],\n",
              "       [247.50346 ],\n",
              "       [248.90106 ],\n",
              "       [250.02727 ],\n",
              "       [251.93507 ],\n",
              "       [253.94577 ],\n",
              "       [255.45222 ],\n",
              "       [253.06937 ],\n",
              "       [254.26535 ],\n",
              "       [259.02628 ],\n",
              "       [258.3687  ],\n",
              "       [250.78786 ],\n",
              "       [250.81406 ],\n",
              "       [255.85693 ],\n",
              "       [260.82562 ],\n",
              "       [262.7893  ],\n",
              "       [260.3788  ],\n",
              "       [260.18243 ],\n",
              "       [262.34866 ],\n",
              "       [269.15576 ],\n",
              "       [269.80447 ],\n",
              "       [269.2006  ],\n",
              "       [263.18588 ],\n",
              "       [254.7788  ],\n",
              "       [249.50249 ],\n",
              "       [251.84428 ],\n",
              "       [257.8724  ],\n",
              "       [263.71475 ],\n",
              "       [264.76157 ],\n",
              "       [261.86435 ],\n",
              "       [262.27774 ],\n",
              "       [260.33844 ],\n",
              "       [268.69098 ],\n",
              "       [273.53073 ],\n",
              "       [269.2115  ],\n",
              "       [260.67    ],\n",
              "       [261.86542 ],\n",
              "       [266.15082 ],\n",
              "       [265.69995 ],\n",
              "       [260.9497  ],\n",
              "       [253.9388  ],\n",
              "       [241.03767 ],\n",
              "       [237.28322 ],\n",
              "       [234.78426 ],\n",
              "       [231.32483 ],\n",
              "       [233.35658 ],\n",
              "       [239.69637 ],\n",
              "       [245.76317 ],\n",
              "       [242.09526 ],\n",
              "       [237.02338 ],\n",
              "       [235.90984 ],\n",
              "       [236.63945 ],\n",
              "       [240.07085 ],\n",
              "       [235.97739 ],\n",
              "       [230.74889 ],\n",
              "       [228.02805 ],\n",
              "       [230.92517 ],\n",
              "       [233.74406 ],\n",
              "       [234.23091 ],\n",
              "       [234.12827 ],\n",
              "       [231.78455 ],\n",
              "       [230.2981  ],\n",
              "       [231.80981 ],\n",
              "       [234.7903  ],\n",
              "       [238.70576 ],\n",
              "       [241.93213 ],\n",
              "       [240.08553 ],\n",
              "       [233.8852  ],\n",
              "       [226.88695 ],\n",
              "       [227.20743 ],\n",
              "       [228.75897 ],\n",
              "       [230.70798 ],\n",
              "       [232.89175 ],\n",
              "       [233.12811 ],\n",
              "       [233.67732 ],\n",
              "       [226.66455 ],\n",
              "       [219.40689 ],\n",
              "       [215.71811 ],\n",
              "       [216.80336 ],\n",
              "       [219.08937 ],\n",
              "       [217.57034 ],\n",
              "       [218.80411 ],\n",
              "       [226.96173 ],\n",
              "       [235.17648 ],\n",
              "       [237.35242 ],\n",
              "       [234.89917 ],\n",
              "       [231.22261 ],\n",
              "       [228.03914 ],\n",
              "       [228.28072 ],\n",
              "       [228.97066 ]], dtype=float32)"
            ]
          },
          "metadata": {},
          "execution_count": 30
        }
      ]
    },
    {
      "cell_type": "code",
      "source": [
        "import math\n",
        "from sklearn.metrics import mean_squared_error"
      ],
      "metadata": {
        "id": "nOmPzFBdE_2a"
      },
      "execution_count": 31,
      "outputs": []
    },
    {
      "cell_type": "code",
      "source": [
        "mse = math.sqrt(mean_squared_error(y_test, predictions))\n",
        "print(\"The Mean Squared Error for above model is: \", mse)"
      ],
      "metadata": {
        "colab": {
          "base_uri": "https://localhost:8080/"
        },
        "id": "kzdkmFMXFMqk",
        "outputId": "7e6f26d2-5348-4ef2-9dbf-33332e11ed15"
      },
      "execution_count": 32,
      "outputs": [
        {
          "output_type": "stream",
          "name": "stdout",
          "text": [
            "The Mean Squared Error for above model is:  0.027555455333119844\n"
          ]
        }
      ]
    }
  ]
}